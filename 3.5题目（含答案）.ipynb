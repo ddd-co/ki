{
 "cells": [
  {
   "cell_type": "markdown",
   "metadata": {},
   "source": [
    "# 19 抽取一行考试成绩数据"
   ]
  },
  {
   "cell_type": "code",
   "execution_count": 4,
   "metadata": {},
   "outputs": [
    {
     "data": {
      "text/html": [
       "<div>\n",
       "<style scoped>\n",
       "    .dataframe tbody tr th:only-of-type {\n",
       "        vertical-align: middle;\n",
       "    }\n",
       "\n",
       "    .dataframe tbody tr th {\n",
       "        vertical-align: top;\n",
       "    }\n",
       "\n",
       "    .dataframe thead th {\n",
       "        text-align: right;\n",
       "    }\n",
       "</style>\n",
       "<table border=\"1\" class=\"dataframe\">\n",
       "  <thead>\n",
       "    <tr style=\"text-align: right;\">\n",
       "      <th></th>\n",
       "      <th>语文</th>\n",
       "      <th>数学</th>\n",
       "      <th>英语</th>\n",
       "    </tr>\n",
       "  </thead>\n",
       "  <tbody>\n",
       "    <tr>\n",
       "      <th>明日</th>\n",
       "      <td>110</td>\n",
       "      <td>105</td>\n",
       "      <td>99.0</td>\n",
       "    </tr>\n",
       "    <tr>\n",
       "      <th>七月流火</th>\n",
       "      <td>105</td>\n",
       "      <td>88</td>\n",
       "      <td>115.0</td>\n",
       "    </tr>\n",
       "    <tr>\n",
       "      <th>高袁圆</th>\n",
       "      <td>109</td>\n",
       "      <td>120</td>\n",
       "      <td>130.0</td>\n",
       "    </tr>\n",
       "    <tr>\n",
       "      <th>二月二</th>\n",
       "      <td>112</td>\n",
       "      <td>115</td>\n",
       "      <td>NaN</td>\n",
       "    </tr>\n",
       "  </tbody>\n",
       "</table>\n",
       "</div>"
      ],
      "text/plain": [
       "          语文  数学   英语\n",
       "明日       110   105   99.0\n",
       "七月流火   105    88  115.0\n",
       "高袁圆     109   120  130.0\n",
       "二月二     112   115    NaN"
      ]
     },
     "execution_count": 4,
     "metadata": {},
     "output_type": "execute_result"
    }
   ],
   "source": [
    "考试成绩数据"
   ]
  },
  {
   "cell_type": "code",
   "execution_count": 5,
   "metadata": {},
   "outputs": [
    {
     "name": "stdout",
     "output_type": "stream",
     "text": [
      "语文    110.0\n",
      "数学    105.0\n",
      "英语     99.0\n",
      "Name: 明日, dtype: float64\n"
     ]
    }
   ],
   "source": [
    "抽取一行名为“明日”的考试成绩数据"
   ]
  },
  {
   "cell_type": "markdown",
   "metadata": {},
   "source": [
    "## 答:"
   ]
  },
  {
   "cell_type": "code",
   "execution_count": 7,
   "metadata": {},
   "outputs": [
    {
     "data": {
      "text/html": [
       "<div>\n",
       "<style scoped>\n",
       "    .dataframe tbody tr th:only-of-type {\n",
       "        vertical-align: middle;\n",
       "    }\n",
       "\n",
       "    .dataframe tbody tr th {\n",
       "        vertical-align: top;\n",
       "    }\n",
       "\n",
       "    .dataframe thead th {\n",
       "        text-align: right;\n",
       "    }\n",
       "</style>\n",
       "<table border=\"1\" class=\"dataframe\">\n",
       "  <thead>\n",
       "    <tr style=\"text-align: right;\">\n",
       "      <th></th>\n",
       "      <th>语文</th>\n",
       "      <th>数学</th>\n",
       "      <th>英语</th>\n",
       "    </tr>\n",
       "  </thead>\n",
       "  <tbody>\n",
       "    <tr>\n",
       "      <th>明日</th>\n",
       "      <td>110</td>\n",
       "      <td>105</td>\n",
       "      <td>99.0</td>\n",
       "    </tr>\n",
       "    <tr>\n",
       "      <th>七月流火</th>\n",
       "      <td>105</td>\n",
       "      <td>88</td>\n",
       "      <td>115.0</td>\n",
       "    </tr>\n",
       "    <tr>\n",
       "      <th>高袁圆</th>\n",
       "      <td>109</td>\n",
       "      <td>120</td>\n",
       "      <td>130.0</td>\n",
       "    </tr>\n",
       "    <tr>\n",
       "      <th>二月二</th>\n",
       "      <td>112</td>\n",
       "      <td>115</td>\n",
       "      <td>NaN</td>\n",
       "    </tr>\n",
       "  </tbody>\n",
       "</table>\n",
       "</div>"
      ],
      "text/plain": [
       "          语文  数学   英语\n",
       "明日       110   105   99.0\n",
       "七月流火   105    88  115.0\n",
       "高袁圆     109   120  130.0\n",
       "二月二     112   115    NaN"
      ]
     },
     "execution_count": 7,
     "metadata": {},
     "output_type": "execute_result"
    }
   ],
   "source": [
    "import pandas as pd\n",
    "#解决数据输出时列名不对齐的问题\n",
    "pd.set_option('display.unicode.east_asian_width', True)\n",
    "data = [[110,105,99],[105,88,115],[109,120,130],[112,115]]\n",
    "name = ['明日','七月流火','高袁圆','二月二']\n",
    "columns = ['语文','数学','英语']\n",
    "df = pd.DataFrame(data=data, index=name, columns=columns)\n",
    "df"
   ]
  },
  {
   "cell_type": "code",
   "execution_count": 8,
   "metadata": {},
   "outputs": [
    {
     "name": "stdout",
     "output_type": "stream",
     "text": [
      "语文    110.0\n",
      "数学    105.0\n",
      "英语     99.0\n",
      "Name: 明日, dtype: float64\n"
     ]
    }
   ],
   "source": [
    "print(df.loc['明日'])"
   ]
  },
  {
   "cell_type": "code",
   "execution_count": null,
   "metadata": {},
   "outputs": [],
   "source": []
  },
  {
   "cell_type": "markdown",
   "metadata": {},
   "source": [
    "# 20 抽取多行考试成绩数据"
   ]
  },
  {
   "cell_type": "code",
   "execution_count": 10,
   "metadata": {},
   "outputs": [
    {
     "name": "stdout",
     "output_type": "stream",
     "text": [
      "        语文  数学   英语\n",
      "明日     110   105   99.0\n",
      "高袁圆   109   120  130.0\n"
     ]
    }
   ],
   "source": [
    "抽取行名为“明日”和“高袁圆”的考试成绩数据"
   ]
  },
  {
   "cell_type": "markdown",
   "metadata": {},
   "source": [
    "## 答："
   ]
  },
  {
   "cell_type": "code",
   "execution_count": 9,
   "metadata": {},
   "outputs": [
    {
     "name": "stdout",
     "output_type": "stream",
     "text": [
      "        语文  数学   英语\n",
      "明日     110   105   99.0\n",
      "高袁圆   109   120  130.0\n"
     ]
    }
   ],
   "source": [
    "print(df.iloc[[0,2]])"
   ]
  },
  {
   "cell_type": "code",
   "execution_count": null,
   "metadata": {},
   "outputs": [],
   "source": []
  },
  {
   "cell_type": "markdown",
   "metadata": {},
   "source": [
    "# 21 抽取连续几个学生的考试成绩"
   ]
  },
  {
   "cell_type": "code",
   "execution_count": 12,
   "metadata": {},
   "outputs": [
    {
     "name": "stdout",
     "output_type": "stream",
     "text": [
      "          语文  数学   英语\n",
      "明日       110   105   99.0\n",
      "七月流火   105    88  115.0\n",
      "高袁圆     109   120  130.0\n",
      "二月二     112   115    NaN\n"
     ]
    }
   ],
   "source": [
    "从“明日”到“二月二”"
   ]
  },
  {
   "cell_type": "code",
   "execution_count": 14,
   "metadata": {},
   "outputs": [
    {
     "name": "stdout",
     "output_type": "stream",
     "text": [
      "          语文  数学   英语\n",
      "明日       110   105   99.0\n",
      "七月流火   105    88  115.0\n"
     ]
    }
   ],
   "source": [
    "第1行到“七月流火”"
   ]
  },
  {
   "cell_type": "code",
   "execution_count": 21,
   "metadata": {},
   "outputs": [
    {
     "name": "stdout",
     "output_type": "stream",
     "text": [
      "          语文  数学   英语\n",
      "七月流火   105    88  115.0\n",
      "高袁圆     109   120  130.0\n",
      "二月二     112   115    NaN\n"
     ]
    }
   ],
   "source": [
    "第2行到最后1行"
   ]
  },
  {
   "cell_type": "code",
   "execution_count": null,
   "metadata": {},
   "outputs": [],
   "source": []
  },
  {
   "cell_type": "markdown",
   "metadata": {},
   "source": [
    "## 答："
   ]
  },
  {
   "cell_type": "code",
   "execution_count": 13,
   "metadata": {},
   "outputs": [
    {
     "name": "stdout",
     "output_type": "stream",
     "text": [
      "          语文  数学   英语\n",
      "明日       110   105   99.0\n",
      "七月流火   105    88  115.0\n",
      "高袁圆     109   120  130.0\n",
      "二月二     112   115    NaN\n"
     ]
    }
   ],
   "source": [
    "print(df.loc['明日':'二月二']) #从“明日”到“二月二”"
   ]
  },
  {
   "cell_type": "code",
   "execution_count": 15,
   "metadata": {},
   "outputs": [
    {
     "name": "stdout",
     "output_type": "stream",
     "text": [
      "          语文  数学   英语\n",
      "明日       110   105   99.0\n",
      "七月流火   105    88  115.0\n"
     ]
    }
   ],
   "source": [
    "print(df.loc[:'七月流火'])     #第1行到“七月流火”"
   ]
  },
  {
   "cell_type": "code",
   "execution_count": 22,
   "metadata": {},
   "outputs": [
    {
     "name": "stdout",
     "output_type": "stream",
     "text": [
      "          语文  数学   英语\n",
      "七月流火   105    88  115.0\n",
      "高袁圆     109   120  130.0\n",
      "二月二     112   115    NaN\n"
     ]
    }
   ],
   "source": [
    "print(df.iloc[1::])            #第2行到最后1行"
   ]
  },
  {
   "cell_type": "code",
   "execution_count": null,
   "metadata": {},
   "outputs": [],
   "source": []
  },
  {
   "cell_type": "markdown",
   "metadata": {},
   "source": [
    "# 22 抽取“语文”和“数学”的考试成绩数据"
   ]
  },
  {
   "cell_type": "code",
   "execution_count": 23,
   "metadata": {},
   "outputs": [
    {
     "name": "stdout",
     "output_type": "stream",
     "text": [
      "          语文  数学\n",
      "明日       110   105\n",
      "七月流火   105    88\n",
      "高袁圆     109   120\n",
      "二月二     112   115\n"
     ]
    }
   ],
   "source": [
    "抽取列名为“语文”和“数学”的考试成绩数据"
   ]
  },
  {
   "cell_type": "markdown",
   "metadata": {},
   "source": [
    "## 答： "
   ]
  },
  {
   "cell_type": "code",
   "execution_count": 24,
   "metadata": {},
   "outputs": [
    {
     "name": "stdout",
     "output_type": "stream",
     "text": [
      "          语文  数学\n",
      "明日       110   105\n",
      "七月流火   105    88\n",
      "高袁圆     109   120\n",
      "二月二     112   115\n"
     ]
    }
   ],
   "source": [
    "df = pd.DataFrame(data=data, index=name, columns=columns)\n",
    "print(df[['语文','数学']])"
   ]
  },
  {
   "cell_type": "code",
   "execution_count": null,
   "metadata": {},
   "outputs": [],
   "source": []
  },
  {
   "cell_type": "markdown",
   "metadata": {},
   "source": [
    "# 23 抽取指定学科的考试成绩"
   ]
  },
  {
   "cell_type": "code",
   "execution_count": 25,
   "metadata": {},
   "outputs": [
    {
     "name": "stdout",
     "output_type": "stream",
     "text": [
      "          语文  数学\n",
      "明日       110   105\n",
      "七月流火   105    88\n",
      "高袁圆     109   120\n",
      "二月二     112   115\n"
     ]
    }
   ],
   "source": [
    "抽取“语文”和“数学”"
   ]
  },
  {
   "cell_type": "code",
   "execution_count": 27,
   "metadata": {},
   "outputs": [
    {
     "name": "stdout",
     "output_type": "stream",
     "text": [
      "          语文  数学\n",
      "明日       110   105\n",
      "七月流火   105    88\n",
      "高袁圆     109   120\n",
      "二月二     112   115\n"
     ]
    }
   ],
   "source": [
    "抽取第1列和第2列"
   ]
  },
  {
   "cell_type": "code",
   "execution_count": 29,
   "metadata": {},
   "outputs": [
    {
     "name": "stdout",
     "output_type": "stream",
     "text": [
      "          语文  数学   英语\n",
      "明日       110   105   99.0\n",
      "七月流火   105    88  115.0\n",
      "高袁圆     109   120  130.0\n",
      "二月二     112   115    NaN\n"
     ]
    }
   ],
   "source": [
    "抽取从“语文”开始到最后一列"
   ]
  },
  {
   "cell_type": "code",
   "execution_count": 31,
   "metadata": {},
   "outputs": [
    {
     "name": "stdout",
     "output_type": "stream",
     "text": [
      "          语文  数学\n",
      "明日       110   105\n",
      "七月流火   105    88\n",
      "高袁圆     109   120\n",
      "二月二     112   115\n"
     ]
    }
   ],
   "source": [
    "连续抽取从1列开始到第3列"
   ]
  },
  {
   "cell_type": "markdown",
   "metadata": {},
   "source": [
    "## 答："
   ]
  },
  {
   "cell_type": "code",
   "execution_count": 26,
   "metadata": {},
   "outputs": [
    {
     "name": "stdout",
     "output_type": "stream",
     "text": [
      "          语文  数学\n",
      "明日       110   105\n",
      "七月流火   105    88\n",
      "高袁圆     109   120\n",
      "二月二     112   115\n"
     ]
    }
   ],
   "source": [
    "print(df.loc[:,['语文','数学']])   #抽取“语文”和“数学”"
   ]
  },
  {
   "cell_type": "code",
   "execution_count": 28,
   "metadata": {},
   "outputs": [
    {
     "name": "stdout",
     "output_type": "stream",
     "text": [
      "          语文  数学\n",
      "明日       110   105\n",
      "七月流火   105    88\n",
      "高袁圆     109   120\n",
      "二月二     112   115\n"
     ]
    }
   ],
   "source": [
    "print(df.iloc[:,[0,1]])            #抽取第1列和第2列"
   ]
  },
  {
   "cell_type": "code",
   "execution_count": 30,
   "metadata": {},
   "outputs": [
    {
     "name": "stdout",
     "output_type": "stream",
     "text": [
      "          语文  数学   英语\n",
      "明日       110   105   99.0\n",
      "七月流火   105    88  115.0\n",
      "高袁圆     109   120  130.0\n",
      "二月二     112   115    NaN\n"
     ]
    }
   ],
   "source": [
    "print(df.loc[:,'语文':])           #抽取从“语文”开始到最后一列"
   ]
  },
  {
   "cell_type": "code",
   "execution_count": 32,
   "metadata": {},
   "outputs": [
    {
     "name": "stdout",
     "output_type": "stream",
     "text": [
      "          语文  数学\n",
      "明日       110   105\n",
      "七月流火   105    88\n",
      "高袁圆     109   120\n",
      "二月二     112   115\n"
     ]
    }
   ],
   "source": [
    "print(df.iloc[:,:2])               #连续抽取从1列开始到第3列"
   ]
  },
  {
   "cell_type": "code",
   "execution_count": null,
   "metadata": {},
   "outputs": [],
   "source": []
  },
  {
   "cell_type": "markdown",
   "metadata": {},
   "source": [
    "# 24 抽取指定学科和指定学生的考试成绩"
   ]
  },
  {
   "cell_type": "code",
   "execution_count": 39,
   "metadata": {},
   "outputs": [
    {
     "name": "stdout",
     "output_type": "stream",
     "text": [
      "115.0\n"
     ]
    }
   ],
   "source": [
    "“七月流火”的“英语”成绩（只显示数值）"
   ]
  },
  {
   "cell_type": "code",
   "execution_count": 35,
   "metadata": {},
   "outputs": [
    {
     "name": "stdout",
     "output_type": "stream",
     "text": [
      "           英语\n",
      "七月流火  115.0\n"
     ]
    }
   ],
   "source": [
    "“七月流火”的“英语”成绩"
   ]
  },
  {
   "cell_type": "code",
   "execution_count": 37,
   "metadata": {},
   "outputs": [
    {
     "name": "stdout",
     "output_type": "stream",
     "text": [
      "          数学   英语\n",
      "七月流火    88  115.0\n"
     ]
    }
   ],
   "source": [
    "“七月流火”的“数学”和“英语”成绩"
   ]
  },
  {
   "cell_type": "code",
   "execution_count": 42,
   "metadata": {},
   "outputs": [
    {
     "name": "stdout",
     "output_type": "stream",
     "text": [
      "           英语\n",
      "七月流火  115.0\n",
      "高袁圆    130.0\n",
      "二月二      NaN\n"
     ]
    }
   ],
   "source": [
    "第2行到最后一行的第3列"
   ]
  },
  {
   "cell_type": "code",
   "execution_count": 44,
   "metadata": {},
   "outputs": [
    {
     "name": "stdout",
     "output_type": "stream",
     "text": [
      "          语文   英语\n",
      "七月流火   105  115.0\n",
      "高袁圆     109  130.0\n",
      "二月二     112    NaN\n"
     ]
    }
   ],
   "source": [
    "第2行到最后一行的第1列和第3列"
   ]
  },
  {
   "cell_type": "code",
   "execution_count": 46,
   "metadata": {},
   "outputs": [
    {
     "name": "stdout",
     "output_type": "stream",
     "text": [
      "明日         99.0\n",
      "七月流火    115.0\n",
      "高袁圆      130.0\n",
      "二月二        NaN\n",
      "Name: 英语, dtype: float64\n"
     ]
    }
   ],
   "source": [
    "所有行，第3列"
   ]
  },
  {
   "cell_type": "markdown",
   "metadata": {},
   "source": [
    "## 答："
   ]
  },
  {
   "cell_type": "code",
   "execution_count": 40,
   "metadata": {},
   "outputs": [
    {
     "name": "stdout",
     "output_type": "stream",
     "text": [
      "115.0\n"
     ]
    }
   ],
   "source": [
    "print(df.loc['七月流火','英语'])   #“七月流火”的“英语”成绩（只显示数值）"
   ]
  },
  {
   "cell_type": "code",
   "execution_count": 36,
   "metadata": {},
   "outputs": [
    {
     "name": "stdout",
     "output_type": "stream",
     "text": [
      "           英语\n",
      "七月流火  115.0\n"
     ]
    }
   ],
   "source": [
    "print(df.loc[['七月流火'],['英语']])          #“七月流火”的“英语”成绩"
   ]
  },
  {
   "cell_type": "code",
   "execution_count": 38,
   "metadata": {},
   "outputs": [
    {
     "name": "stdout",
     "output_type": "stream",
     "text": [
      "          数学   英语\n",
      "七月流火    88  115.0\n"
     ]
    }
   ],
   "source": [
    "print(df.loc[['七月流火'],['数学','英语']])   #“七月流火”的“数学”和“英语”成绩"
   ]
  },
  {
   "cell_type": "code",
   "execution_count": 43,
   "metadata": {},
   "outputs": [
    {
     "name": "stdout",
     "output_type": "stream",
     "text": [
      "           英语\n",
      "七月流火  115.0\n",
      "高袁圆    130.0\n",
      "二月二      NaN\n"
     ]
    }
   ],
   "source": [
    "print(df.iloc[1:,[2]])                        #第2行到最后一行的第3列"
   ]
  },
  {
   "cell_type": "code",
   "execution_count": 45,
   "metadata": {},
   "outputs": [
    {
     "name": "stdout",
     "output_type": "stream",
     "text": [
      "          语文   英语\n",
      "七月流火   105  115.0\n",
      "高袁圆     109  130.0\n",
      "二月二     112    NaN\n"
     ]
    }
   ],
   "source": [
    "print(df.iloc[1:,[0,2]])                      #第2行到最后一行的第1列和第3列"
   ]
  },
  {
   "cell_type": "code",
   "execution_count": 47,
   "metadata": {},
   "outputs": [
    {
     "name": "stdout",
     "output_type": "stream",
     "text": [
      "明日         99.0\n",
      "七月流火    115.0\n",
      "高袁圆      130.0\n",
      "二月二        NaN\n",
      "Name: 英语, dtype: float64\n"
     ]
    }
   ],
   "source": [
    "print(df.iloc[:,2])                           #所有行，第3列"
   ]
  },
  {
   "cell_type": "code",
   "execution_count": null,
   "metadata": {},
   "outputs": [],
   "source": []
  },
  {
   "cell_type": "markdown",
   "metadata": {},
   "source": [
    "# 25 抽取指定学科和指定分数数据"
   ]
  },
  {
   "cell_type": "code",
   "execution_count": 48,
   "metadata": {},
   "outputs": [
    {
     "name": "stdout",
     "output_type": "stream",
     "text": [
      "        语文  数学   英语\n",
      "明日     110   105   99.0\n",
      "高袁圆   109   120  130.0\n",
      "二月二   112   115    NaN\n"
     ]
    }
   ],
   "source": [
    "抽取语文成绩大于105分，数学成绩大于88分的数据"
   ]
  },
  {
   "cell_type": "markdown",
   "metadata": {},
   "source": [
    "## 答："
   ]
  },
  {
   "cell_type": "code",
   "execution_count": 49,
   "metadata": {},
   "outputs": [
    {
     "name": "stdout",
     "output_type": "stream",
     "text": [
      "        语文  数学   英语\n",
      "明日     110   105   99.0\n",
      "高袁圆   109   120  130.0\n",
      "二月二   112   115    NaN\n"
     ]
    }
   ],
   "source": [
    "print(df.loc[(df['语文'] > 105) & (df['数学'] >88)])"
   ]
  }
 ],
 "metadata": {
  "kernelspec": {
   "display_name": "Python 3",
   "language": "python",
   "name": "python3"
  },
  "language_info": {
   "codemirror_mode": {
    "name": "ipython",
    "version": 3
   },
   "file_extension": ".py",
   "mimetype": "text/x-python",
   "name": "python",
   "nbconvert_exporter": "python",
   "pygments_lexer": "ipython3",
   "version": "3.6.10"
  }
 },
 "nbformat": 4,
 "nbformat_minor": 4
}
